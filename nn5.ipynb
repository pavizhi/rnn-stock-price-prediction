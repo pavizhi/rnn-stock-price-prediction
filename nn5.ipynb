{
  "nbformat": 4,
  "nbformat_minor": 0,
  "metadata": {
    "colab": {
      "provenance": [],
      "gpuType": "T4",
      "include_colab_link": true
    },
    "kernelspec": {
      "name": "python3",
      "display_name": "Python 3"
    },
    "language_info": {
      "name": "python"
    },
    "accelerator": "GPU"
  },
  "cells": [
    {
      "cell_type": "markdown",
      "metadata": {
        "id": "view-in-github",
        "colab_type": "text"
      },
      "source": [
        "<a href=\"https://colab.research.google.com/github/pavizhi/rnn-stock-price-prediction/blob/main/nn5.ipynb\" target=\"_parent\"><img src=\"https://colab.research.google.com/assets/colab-badge.svg\" alt=\"Open In Colab\"/></a>"
      ]
    },
    {
      "cell_type": "code",
      "execution_count": 3,
      "metadata": {
        "id": "oDaqLMeC9ZTz"
      },
      "outputs": [],
      "source": [
        "import numpy as np\n",
        "import matplotlib.pyplot as plt\n",
        "import pandas as pd\n",
        "from sklearn.preprocessing import MinMaxScaler\n",
        "from keras import layers\n",
        "from keras.models import Sequential\n",
        "from tensorflow.keras import models\n",
        "from tensorflow.keras import layers\n",
        "\n"
      ]
    },
    {
      "cell_type": "code",
      "source": [
        "dataset_train = pd.read_csv('/content/trainset.csv')\n",
        "dataset_train.columns\n",
        "dataset_train.head()\n",
        "train_set = dataset_train.iloc[:,1:2].values\n",
        "type(train_set)\n",
        "train_set.shape\n"
      ],
      "metadata": {
        "colab": {
          "base_uri": "https://localhost:8080/"
        },
        "id": "mdviFBZw9v36",
        "outputId": "9a7f37c5-0e81-411e-c74f-60a821a4e880"
      },
      "execution_count": 4,
      "outputs": [
        {
          "output_type": "execute_result",
          "data": {
            "text/plain": [
              "(1259, 1)"
            ]
          },
          "metadata": {},
          "execution_count": 4
        }
      ]
    },
    {
      "cell_type": "code",
      "source": [
        "sc = MinMaxScaler(feature_range=(0,1))\n",
        "training_set_scaled = sc.fit_transform(train_set)\n",
        "training_set_scaled.shape\n",
        "\n"
      ],
      "metadata": {
        "colab": {
          "base_uri": "https://localhost:8080/"
        },
        "id": "zvrOMV3D9yzn",
        "outputId": "997a6745-5eed-4911-f4bc-e140c68cfb32"
      },
      "execution_count": 5,
      "outputs": [
        {
          "output_type": "execute_result",
          "data": {
            "text/plain": [
              "(1259, 1)"
            ]
          },
          "metadata": {},
          "execution_count": 5
        }
      ]
    },
    {
      "cell_type": "code",
      "source": [
        "X_train_array = []\n",
        "y_train_array = []\n",
        "for i in range(60, 1259):\n",
        "    X_train_array.append(training_set_scaled[i-60:i,0])\n",
        "    y_train_array.append(training_set_scaled[i,0])\n",
        "\n",
        "X_train, y_train = np.array(X_train_array), np.array(y_train_array)\n",
        "X_train1 = X_train.reshape((X_train.shape[0], X_train.shape[1],1))\n",
        "X_train.shape\n",
        "\n"
      ],
      "metadata": {
        "colab": {
          "base_uri": "https://localhost:8080/"
        },
        "id": "Gk4kzYgw904b",
        "outputId": "b76cdb1c-251a-4a41-c493-f6d38e99a825"
      },
      "execution_count": 6,
      "outputs": [
        {
          "output_type": "execute_result",
          "data": {
            "text/plain": [
              "(1199, 60)"
            ]
          },
          "metadata": {},
          "execution_count": 6
        }
      ]
    },
    {
      "cell_type": "code",
      "source": [
        "length = 60\n",
        "n_features = 1\n",
        "\n",
        "model = models.Sequential()\n",
        "model.add(layers.SimpleRNN(10,input_shape=(length,n_features)))\n",
        "model.add(layers.Dense(1))\n",
        "\n",
        "model.compile(optimizer='rmsprop', loss='mse',metrics ='accuracy')\n",
        "\n"
      ],
      "metadata": {
        "id": "a863iu5T93nx"
      },
      "execution_count": 7,
      "outputs": []
    },
    {
      "cell_type": "code",
      "source": [
        "model.summary()\n",
        "\n"
      ],
      "metadata": {
        "colab": {
          "base_uri": "https://localhost:8080/"
        },
        "id": "g_Ftm8qB952b",
        "outputId": "5c423d41-c338-4b7a-93cf-01663d8284d0"
      },
      "execution_count": 8,
      "outputs": [
        {
          "output_type": "stream",
          "name": "stdout",
          "text": [
            "Model: \"sequential\"\n",
            "_________________________________________________________________\n",
            " Layer (type)                Output Shape              Param #   \n",
            "=================================================================\n",
            " simple_rnn (SimpleRNN)      (None, 10)                120       \n",
            "                                                                 \n",
            " dense (Dense)               (None, 1)                 11        \n",
            "                                                                 \n",
            "=================================================================\n",
            "Total params: 131 (524.00 Byte)\n",
            "Trainable params: 131 (524.00 Byte)\n",
            "Non-trainable params: 0 (0.00 Byte)\n",
            "_________________________________________________________________\n"
          ]
        }
      ]
    },
    {
      "cell_type": "code",
      "source": [
        "model.fit(X_train1,y_train,epochs=100, batch_size=64)\n",
        "\n"
      ],
      "metadata": {
        "colab": {
          "base_uri": "https://localhost:8080/"
        },
        "id": "cwOp4DOy978b",
        "outputId": "7386c697-24f4-4ef7-9bdf-5aca4f887af8"
      },
      "execution_count": 9,
      "outputs": [
        {
          "output_type": "stream",
          "name": "stdout",
          "text": [
            "Epoch 1/100\n",
            "19/19 [==============================] - 3s 33ms/step - loss: 0.1036 - accuracy: 0.0000e+00\n",
            "Epoch 2/100\n",
            "19/19 [==============================] - 1s 35ms/step - loss: 0.0170 - accuracy: 8.3403e-04\n",
            "Epoch 3/100\n",
            "19/19 [==============================] - 1s 65ms/step - loss: 0.0094 - accuracy: 8.3403e-04\n",
            "Epoch 4/100\n",
            "19/19 [==============================] - 2s 98ms/step - loss: 0.0071 - accuracy: 8.3403e-04\n",
            "Epoch 5/100\n",
            "19/19 [==============================] - 2s 86ms/step - loss: 0.0054 - accuracy: 8.3403e-04\n",
            "Epoch 6/100\n",
            "19/19 [==============================] - 2s 82ms/step - loss: 0.0036 - accuracy: 8.3403e-04\n",
            "Epoch 7/100\n",
            "19/19 [==============================] - 1s 69ms/step - loss: 0.0032 - accuracy: 8.3403e-04\n",
            "Epoch 8/100\n",
            "19/19 [==============================] - 2s 84ms/step - loss: 0.0025 - accuracy: 8.3403e-04\n",
            "Epoch 9/100\n",
            "19/19 [==============================] - 1s 72ms/step - loss: 0.0020 - accuracy: 8.3403e-04\n",
            "Epoch 10/100\n",
            "19/19 [==============================] - 2s 81ms/step - loss: 0.0019 - accuracy: 8.3403e-04\n",
            "Epoch 11/100\n",
            "19/19 [==============================] - 2s 107ms/step - loss: 0.0016 - accuracy: 8.3403e-04\n",
            "Epoch 12/100\n",
            "19/19 [==============================] - 2s 116ms/step - loss: 0.0012 - accuracy: 8.3403e-04\n",
            "Epoch 13/100\n",
            "19/19 [==============================] - 1s 33ms/step - loss: 0.0011 - accuracy: 8.3403e-04\n",
            "Epoch 14/100\n",
            "19/19 [==============================] - 1s 33ms/step - loss: 8.9680e-04 - accuracy: 8.3403e-04\n",
            "Epoch 15/100\n",
            "19/19 [==============================] - 1s 37ms/step - loss: 6.8881e-04 - accuracy: 8.3403e-04\n",
            "Epoch 16/100\n",
            "19/19 [==============================] - 1s 35ms/step - loss: 6.8395e-04 - accuracy: 8.3403e-04\n",
            "Epoch 17/100\n",
            "19/19 [==============================] - 1s 37ms/step - loss: 6.5236e-04 - accuracy: 8.3403e-04\n",
            "Epoch 18/100\n",
            "19/19 [==============================] - 1s 33ms/step - loss: 6.0461e-04 - accuracy: 8.3403e-04\n",
            "Epoch 19/100\n",
            "19/19 [==============================] - 1s 34ms/step - loss: 4.7708e-04 - accuracy: 8.3403e-04\n",
            "Epoch 20/100\n",
            "19/19 [==============================] - 1s 35ms/step - loss: 5.7149e-04 - accuracy: 8.3403e-04\n",
            "Epoch 21/100\n",
            "19/19 [==============================] - 1s 35ms/step - loss: 5.4893e-04 - accuracy: 8.3403e-04\n",
            "Epoch 22/100\n",
            "19/19 [==============================] - 1s 35ms/step - loss: 4.7334e-04 - accuracy: 8.3403e-04\n",
            "Epoch 23/100\n",
            "19/19 [==============================] - 1s 36ms/step - loss: 5.0106e-04 - accuracy: 8.3403e-04\n",
            "Epoch 24/100\n",
            "19/19 [==============================] - 1s 34ms/step - loss: 4.9156e-04 - accuracy: 8.3403e-04\n",
            "Epoch 25/100\n",
            "19/19 [==============================] - 1s 35ms/step - loss: 4.2584e-04 - accuracy: 8.3403e-04\n",
            "Epoch 26/100\n",
            "19/19 [==============================] - 1s 34ms/step - loss: 5.0742e-04 - accuracy: 8.3403e-04\n",
            "Epoch 27/100\n",
            "19/19 [==============================] - 1s 59ms/step - loss: 4.8964e-04 - accuracy: 8.3403e-04\n",
            "Epoch 28/100\n",
            "19/19 [==============================] - 1s 61ms/step - loss: 4.3164e-04 - accuracy: 8.3403e-04\n",
            "Epoch 29/100\n",
            "19/19 [==============================] - 1s 40ms/step - loss: 4.4145e-04 - accuracy: 8.3403e-04\n",
            "Epoch 30/100\n",
            "19/19 [==============================] - 1s 33ms/step - loss: 4.8429e-04 - accuracy: 8.3403e-04\n",
            "Epoch 31/100\n",
            "19/19 [==============================] - 1s 35ms/step - loss: 3.7410e-04 - accuracy: 8.3403e-04\n",
            "Epoch 32/100\n",
            "19/19 [==============================] - 1s 35ms/step - loss: 4.0681e-04 - accuracy: 8.3403e-04\n",
            "Epoch 33/100\n",
            "19/19 [==============================] - 1s 33ms/step - loss: 4.1854e-04 - accuracy: 8.3403e-04\n",
            "Epoch 34/100\n",
            "19/19 [==============================] - 1s 35ms/step - loss: 4.3114e-04 - accuracy: 8.3403e-04\n",
            "Epoch 35/100\n",
            "19/19 [==============================] - 1s 34ms/step - loss: 3.8226e-04 - accuracy: 8.3403e-04\n",
            "Epoch 36/100\n",
            "19/19 [==============================] - 1s 33ms/step - loss: 3.8281e-04 - accuracy: 8.3403e-04\n",
            "Epoch 37/100\n",
            "19/19 [==============================] - 1s 36ms/step - loss: 4.3761e-04 - accuracy: 8.3403e-04\n",
            "Epoch 38/100\n",
            "19/19 [==============================] - 1s 38ms/step - loss: 3.1839e-04 - accuracy: 8.3403e-04\n",
            "Epoch 39/100\n",
            "19/19 [==============================] - 1s 34ms/step - loss: 4.2336e-04 - accuracy: 8.3403e-04\n",
            "Epoch 40/100\n",
            "19/19 [==============================] - 1s 34ms/step - loss: 4.0873e-04 - accuracy: 8.3403e-04\n",
            "Epoch 41/100\n",
            "19/19 [==============================] - 1s 34ms/step - loss: 3.7959e-04 - accuracy: 8.3403e-04\n",
            "Epoch 42/100\n",
            "19/19 [==============================] - 1s 33ms/step - loss: 4.0376e-04 - accuracy: 8.3403e-04\n",
            "Epoch 43/100\n",
            "19/19 [==============================] - 1s 33ms/step - loss: 3.7861e-04 - accuracy: 8.3403e-04\n",
            "Epoch 44/100\n",
            "19/19 [==============================] - 1s 56ms/step - loss: 4.0530e-04 - accuracy: 8.3403e-04\n",
            "Epoch 45/100\n",
            "19/19 [==============================] - 1s 61ms/step - loss: 3.6450e-04 - accuracy: 8.3403e-04\n",
            "Epoch 46/100\n",
            "19/19 [==============================] - 1s 42ms/step - loss: 3.7385e-04 - accuracy: 8.3403e-04\n",
            "Epoch 47/100\n",
            "19/19 [==============================] - 1s 47ms/step - loss: 3.7902e-04 - accuracy: 8.3403e-04\n",
            "Epoch 48/100\n",
            "19/19 [==============================] - 1s 34ms/step - loss: 3.3648e-04 - accuracy: 8.3403e-04\n",
            "Epoch 49/100\n",
            "19/19 [==============================] - 2s 81ms/step - loss: 3.6945e-04 - accuracy: 8.3403e-04\n",
            "Epoch 50/100\n",
            "19/19 [==============================] - 1s 66ms/step - loss: 3.4950e-04 - accuracy: 8.3403e-04\n",
            "Epoch 51/100\n",
            "19/19 [==============================] - 1s 58ms/step - loss: 3.9618e-04 - accuracy: 8.3403e-04\n",
            "Epoch 52/100\n",
            "19/19 [==============================] - 1s 68ms/step - loss: 3.3287e-04 - accuracy: 8.3403e-04\n",
            "Epoch 53/100\n",
            "19/19 [==============================] - 1s 77ms/step - loss: 3.6938e-04 - accuracy: 8.3403e-04\n",
            "Epoch 54/100\n",
            "19/19 [==============================] - 1s 57ms/step - loss: 3.5282e-04 - accuracy: 8.3403e-04\n",
            "Epoch 55/100\n",
            "19/19 [==============================] - 1s 79ms/step - loss: 3.3888e-04 - accuracy: 8.3403e-04\n",
            "Epoch 56/100\n",
            "19/19 [==============================] - 2s 105ms/step - loss: 3.7618e-04 - accuracy: 8.3403e-04\n",
            "Epoch 57/100\n",
            "19/19 [==============================] - 2s 86ms/step - loss: 3.4781e-04 - accuracy: 8.3403e-04\n",
            "Epoch 58/100\n",
            "19/19 [==============================] - 2s 93ms/step - loss: 3.2169e-04 - accuracy: 8.3403e-04\n",
            "Epoch 59/100\n",
            "19/19 [==============================] - 2s 89ms/step - loss: 3.5307e-04 - accuracy: 8.3403e-04\n",
            "Epoch 60/100\n",
            "19/19 [==============================] - 1s 32ms/step - loss: 2.9733e-04 - accuracy: 8.3403e-04\n",
            "Epoch 61/100\n",
            "19/19 [==============================] - 1s 34ms/step - loss: 3.2744e-04 - accuracy: 8.3403e-04\n",
            "Epoch 62/100\n",
            "19/19 [==============================] - 1s 35ms/step - loss: 3.2248e-04 - accuracy: 8.3403e-04\n",
            "Epoch 63/100\n",
            "19/19 [==============================] - 1s 34ms/step - loss: 3.2425e-04 - accuracy: 8.3403e-04\n",
            "Epoch 64/100\n",
            "19/19 [==============================] - 1s 35ms/step - loss: 3.2526e-04 - accuracy: 8.3403e-04\n",
            "Epoch 65/100\n",
            "19/19 [==============================] - 1s 34ms/step - loss: 3.0857e-04 - accuracy: 8.3403e-04\n",
            "Epoch 66/100\n",
            "19/19 [==============================] - 1s 34ms/step - loss: 3.1667e-04 - accuracy: 8.3403e-04\n",
            "Epoch 67/100\n",
            "19/19 [==============================] - 1s 63ms/step - loss: 3.5295e-04 - accuracy: 8.3403e-04\n",
            "Epoch 68/100\n",
            "19/19 [==============================] - 1s 62ms/step - loss: 2.7862e-04 - accuracy: 8.3403e-04\n",
            "Epoch 69/100\n",
            "19/19 [==============================] - 1s 33ms/step - loss: 3.3935e-04 - accuracy: 8.3403e-04\n",
            "Epoch 70/100\n",
            "19/19 [==============================] - 1s 32ms/step - loss: 2.8851e-04 - accuracy: 8.3403e-04\n",
            "Epoch 71/100\n",
            "19/19 [==============================] - 1s 34ms/step - loss: 3.0032e-04 - accuracy: 8.3403e-04\n",
            "Epoch 72/100\n",
            "19/19 [==============================] - 1s 33ms/step - loss: 3.2466e-04 - accuracy: 8.3403e-04\n",
            "Epoch 73/100\n",
            "19/19 [==============================] - 1s 33ms/step - loss: 2.9815e-04 - accuracy: 8.3403e-04\n",
            "Epoch 74/100\n",
            "19/19 [==============================] - 1s 34ms/step - loss: 2.8893e-04 - accuracy: 8.3403e-04\n",
            "Epoch 75/100\n",
            "19/19 [==============================] - 1s 35ms/step - loss: 3.2425e-04 - accuracy: 8.3403e-04\n",
            "Epoch 76/100\n",
            "19/19 [==============================] - 1s 34ms/step - loss: 3.1343e-04 - accuracy: 8.3403e-04\n",
            "Epoch 77/100\n",
            "19/19 [==============================] - 1s 33ms/step - loss: 2.8076e-04 - accuracy: 8.3403e-04\n",
            "Epoch 78/100\n",
            "19/19 [==============================] - 1s 33ms/step - loss: 3.0728e-04 - accuracy: 8.3403e-04\n",
            "Epoch 79/100\n",
            "19/19 [==============================] - 1s 33ms/step - loss: 3.1311e-04 - accuracy: 8.3403e-04\n",
            "Epoch 80/100\n",
            "19/19 [==============================] - 1s 37ms/step - loss: 2.9177e-04 - accuracy: 8.3403e-04\n",
            "Epoch 81/100\n",
            "19/19 [==============================] - 1s 35ms/step - loss: 3.0566e-04 - accuracy: 8.3403e-04\n",
            "Epoch 82/100\n",
            "19/19 [==============================] - 1s 35ms/step - loss: 3.0759e-04 - accuracy: 8.3403e-04\n",
            "Epoch 83/100\n",
            "19/19 [==============================] - 1s 34ms/step - loss: 3.0007e-04 - accuracy: 8.3403e-04\n",
            "Epoch 84/100\n",
            "19/19 [==============================] - 1s 51ms/step - loss: 2.9828e-04 - accuracy: 8.3403e-04\n",
            "Epoch 85/100\n",
            "19/19 [==============================] - 1s 62ms/step - loss: 3.2233e-04 - accuracy: 8.3403e-04\n",
            "Epoch 86/100\n",
            "19/19 [==============================] - 1s 47ms/step - loss: 2.7193e-04 - accuracy: 8.3403e-04\n",
            "Epoch 87/100\n",
            "19/19 [==============================] - 1s 37ms/step - loss: 2.6025e-04 - accuracy: 8.3403e-04\n",
            "Epoch 88/100\n",
            "19/19 [==============================] - 1s 33ms/step - loss: 3.1573e-04 - accuracy: 8.3403e-04\n",
            "Epoch 89/100\n",
            "19/19 [==============================] - 1s 34ms/step - loss: 2.9936e-04 - accuracy: 8.3403e-04\n",
            "Epoch 90/100\n",
            "19/19 [==============================] - 1s 35ms/step - loss: 2.8790e-04 - accuracy: 8.3403e-04\n",
            "Epoch 91/100\n",
            "19/19 [==============================] - 1s 34ms/step - loss: 2.8074e-04 - accuracy: 8.3403e-04\n",
            "Epoch 92/100\n",
            "19/19 [==============================] - 1s 37ms/step - loss: 3.1102e-04 - accuracy: 8.3403e-04\n",
            "Epoch 93/100\n",
            "19/19 [==============================] - 1s 35ms/step - loss: 2.8126e-04 - accuracy: 8.3403e-04\n",
            "Epoch 94/100\n",
            "19/19 [==============================] - 1s 35ms/step - loss: 2.7118e-04 - accuracy: 8.3403e-04\n",
            "Epoch 95/100\n",
            "19/19 [==============================] - 1s 34ms/step - loss: 3.3224e-04 - accuracy: 8.3403e-04\n",
            "Epoch 96/100\n",
            "19/19 [==============================] - 1s 34ms/step - loss: 2.7580e-04 - accuracy: 8.3403e-04\n",
            "Epoch 97/100\n",
            "19/19 [==============================] - 1s 33ms/step - loss: 2.6990e-04 - accuracy: 8.3403e-04\n",
            "Epoch 98/100\n",
            "19/19 [==============================] - 1s 34ms/step - loss: 2.9437e-04 - accuracy: 8.3403e-04\n",
            "Epoch 99/100\n",
            "19/19 [==============================] - 1s 32ms/step - loss: 2.7798e-04 - accuracy: 8.3403e-04\n",
            "Epoch 100/100\n",
            "19/19 [==============================] - 1s 34ms/step - loss: 3.0840e-04 - accuracy: 8.3403e-04\n"
          ]
        },
        {
          "output_type": "execute_result",
          "data": {
            "text/plain": [
              "<keras.src.callbacks.History at 0x7f530cc822f0>"
            ]
          },
          "metadata": {},
          "execution_count": 9
        }
      ]
    },
    {
      "cell_type": "code",
      "source": [
        "dataset_test = pd.read_csv('/content/testset.csv')\n",
        "test_set = dataset_test.iloc[:,1:2].values\n",
        "test_set.shape\n"
      ],
      "metadata": {
        "id": "b_G1KkIS9-Lp",
        "colab": {
          "base_uri": "https://localhost:8080/"
        },
        "outputId": "a756872a-cfa6-4782-eaf1-29994248db76"
      },
      "execution_count": 10,
      "outputs": [
        {
          "output_type": "execute_result",
          "data": {
            "text/plain": [
              "(125, 1)"
            ]
          },
          "metadata": {},
          "execution_count": 10
        }
      ]
    },
    {
      "cell_type": "code",
      "source": [
        "dataset_total = pd.concat((dataset_train['Open'],dataset_test['Open']),axis=0)\n",
        "inputs = dataset_total.values\n",
        "inputs = inputs.reshape(-1,1)\n",
        "inputs_scaled=sc.transform(inputs)\n",
        "X_test = []\n",
        "for i in range(60,1384):\n",
        "  X_test.append(inputs_scaled[i-60:i,0])\n",
        "X_test = np.array(X_test)\n",
        "X_test = np.reshape(X_test,(X_test.shape[0], X_test.shape[1],1))\n",
        "X_test.shape"
      ],
      "metadata": {
        "id": "HETXYRT0-CHf",
        "colab": {
          "base_uri": "https://localhost:8080/"
        },
        "outputId": "0b3571c9-b8b7-4639-c592-f029ad65b0bd"
      },
      "execution_count": 11,
      "outputs": [
        {
          "output_type": "execute_result",
          "data": {
            "text/plain": [
              "(1324, 60, 1)"
            ]
          },
          "metadata": {},
          "execution_count": 11
        }
      ]
    },
    {
      "cell_type": "code",
      "source": [
        "print(\"B.PAVIZHI 212221230077\")\n",
        "predicted_stock_price_scaled = model.predict(X_test)\n",
        "predicted_stock_price = sc.inverse_transform(predicted_stock_price_scaled)\n",
        "plt.plot(np.arange(0,1384),inputs, color='black', label = 'Test(Real) Google stock price')\n",
        "plt.plot(np.arange(60,1384),predicted_stock_price, color='blue', label = 'Predicted Google stock price')\n",
        "plt.title('Google Stock Price Prediction')\n",
        "plt.xlabel('Time')\n",
        "plt.ylabel('Google Stock Price')\n",
        "plt.legend()\n",
        "plt.show()"
      ],
      "metadata": {
        "id": "q_ECpK6M-FwW",
        "colab": {
          "base_uri": "https://localhost:8080/",
          "height": 507
        },
        "outputId": "cc2ea975-eec9-4625-ea12-86dc5f440449"
      },
      "execution_count": 13,
      "outputs": [
        {
          "output_type": "stream",
          "name": "stdout",
          "text": [
            "B.PAVIZHI 212221230077\n",
            "42/42 [==============================] - 0s 7ms/step\n"
          ]
        },
        {
          "output_type": "display_data",
          "data": {
            "text/plain": [
              "<Figure size 640x480 with 1 Axes>"
            ],
            "image/png": "[encoded data removed]"
          },
          "metadata": {}
        }
      ]
    }
  ]
}